{
 "cells": [
  {
   "cell_type": "markdown",
   "metadata": {
    "collapsed": true
   },
   "source": [
    "Some functions:"
   ]
  },
  {
   "cell_type": "code",
   "execution_count": null,
   "metadata": {
    "collapsed": true
   },
   "outputs": [],
   "source": [
    "library(gdata)\n",
    "\n",
    "get.LOD.by.COR = function(n.pheno, pheno, gdata) {\n",
    "  # Lynch and Walsh p. 454\n",
    "  return( (-n.pheno*log(1-cor(pheno, gdata, use='pairwise.complete.obs')^2))/(2*log(10)) )  }\n",
    "\n",
    "\n",
    "get.LOD.by.COR.rank = function(n.pheno, pheno, gdata) {\n",
    "  # Lynch and Walsh p. 454\n",
    "  return( (-n.pheno*log(1-cor(pheno, gdata, use='pairwise.complete.obs', method='spearman')^2,))/(2*log(10)) )  }"
   ]
  }
 ],
 "metadata": {
  "kernelspec": {
   "display_name": "R",
   "language": "R",
   "name": "ir"
  },
  "language_info": {
   "codemirror_mode": "r",
   "file_extension": ".r",
   "mimetype": "text/x-r-source",
   "name": "R",
   "pygments_lexer": "r",
   "version": "3.3.0"
  }
 },
 "nbformat": 4,
 "nbformat_minor": 2
}
