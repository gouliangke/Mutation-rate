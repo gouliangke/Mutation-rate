{
 "cells": [
  {
   "cell_type": "markdown",
   "metadata": {
    "collapsed": true
   },
   "source": [
    "Some functions:"
   ]
  },
  {
   "cell_type": "code",
   "execution_count": 1,
   "metadata": {},
   "outputs": [
    {
     "name": "stderr",
     "output_type": "stream",
     "text": [
      "gdata: read.xls support for 'XLS' (Excel 97-2004) files ENABLED.\n",
      "\n",
      "gdata: Unable to load perl libaries needed by read.xls()\n",
      "gdata: to support 'XLSX' (Excel 2007+) files.\n",
      "\n",
      "gdata: Run the function 'installXLSXsupport()'\n",
      "gdata: to automatically download and install the perl\n",
      "gdata: libaries needed to support Excel XLS and XLSX formats.\n",
      "\n",
      "Attaching package: ‘gdata’\n",
      "\n",
      "The following object is masked from ‘package:stats’:\n",
      "\n",
      "    nobs\n",
      "\n",
      "The following object is masked from ‘package:utils’:\n",
      "\n",
      "    object.size\n",
      "\n",
      "The following object is masked from ‘package:base’:\n",
      "\n",
      "    startsWith\n",
      "\n"
     ]
    }
   ],
   "source": [
    "library(gdata)\n",
    "\n",
    "get.LOD.by.COR = function(n.pheno, pheno, gdata) {\n",
    "  # Lynch and Walsh p. 454\n",
    "  return( (-n.pheno*log(1-cor(pheno, gdata, use='pairwise.complete.obs')^2))/(2*log(10)) )  }\n",
    "\n",
    "\n",
    "get.LOD.by.COR.rank = function(n.pheno, pheno, gdata) {\n",
    "  # Lynch and Walsh p. 454\n",
    "  return( (-n.pheno*log(1-cor(pheno, gdata, use='pairwise.complete.obs', method='spearman')^2,))/(2*log(10)) )  }"
   ]
  },
  {
   "cell_type": "code",
   "execution_count": 4,
   "metadata": {},
   "outputs": [
    {
     "ename": "ERROR",
     "evalue": "Error in apply(p, 2, function(x) sum(!is.na(x))): dim(X) must have a positive length\n",
     "output_type": "error",
     "traceback": [
      "Error in apply(p, 2, function(x) sum(!is.na(x))): dim(X) must have a positive length\nTraceback:\n",
      "1. apply(p, 2, function(x) sum(!is.na(x)))",
      "2. stop(\"dim(X) must have a positive length\")"
     ]
    }
   ],
   "source": [
    "p=load(file=\"20170823pp.Rdata\")\n",
    "#p[,1][p[,1]>1000]=NA\n",
    "\n",
    "#removes non-informative markers\n",
    "g=load(file=\"20170823g.Rdata\")\n",
    "n=apply(p, 2, function(x) sum(!is.na(x)))\n",
    "pp=apply(p,2,as.numeric)"
   ]
  },
  {
   "cell_type": "code",
   "execution_count": null,
   "metadata": {
    "collapsed": true
   },
   "outputs": [],
   "source": []
  }
 ],
 "metadata": {
  "kernelspec": {
   "display_name": "R",
   "language": "R",
   "name": "ir"
  },
  "language_info": {
   "codemirror_mode": "r",
   "file_extension": ".r",
   "mimetype": "text/x-r-source",
   "name": "R",
   "pygments_lexer": "r",
   "version": "3.3.0"
  }
 },
 "nbformat": 4,
 "nbformat_minor": 2
}
