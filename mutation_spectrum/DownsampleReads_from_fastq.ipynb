{
 "cells": [
  {
   "cell_type": "markdown",
   "metadata": {},
   "source": [
    "The read counts (after pairing, trimming and alignment step) of four libraries differes:\n",
    "\n",
    "\n",
    "| library 1 | library 2 | library 3 | library 4 |   \n",
    "|-----------|-----------|-----------|-----------|\n",
    "| 91722     | 248508    | 190548    | 160182    |   \n",
    "\n",
    "So I used the following python code to down sample the raw read counts from the fastq file. We try to normalize the readcounts by down sampling the fastq file read counts, making them the same as library 1. \n",
    "\n",
    "The raw fastq file of library 1 contains 103383 reads, 91722 is after pairing, trimming and alignment. "
   ]
  },
  {
   "cell_type": "code",
   "execution_count": null,
   "metadata": {
    "collapsed": true
   },
   "outputs": [],
   "source": [
    "from __future__ import division\n",
    "import random\n",
    "import sys\n",
    "\n",
    "\n",
    "number_to_sample = 103383\n",
    "\n",
    "with open(\"m22_S4_L001_R1_001.fastq\") as input:\n",
    "    num_lines = sum([1 for line in input])\n",
    "total_records = int(num_lines / 4)\n",
    "print(\"sampling \" + str(number_to_sample) + \" out of \" + str(total_records) + \" records\")\n",
    "\n",
    "records_to_keep = set(random.sample(xrange(total_records + 1), number_to_sample))\n",
    "record_number = 0\n",
    "with open(\"m22_S4_L001_R1_001.fastq\") as input:\n",
    "    with open(\"nm22_S4_L001_R1_001.fastq\", \"w\") as output:\n",
    "        for line1 in input:\n",
    "            line2 = input.next()\n",
    "            line3 = input.next()\n",
    "            line4 = input.next()\n",
    "            if record_number in records_to_keep:\n",
    "                    output.write(line1)\n",
    "                    output.write(line2)\n",
    "                    output.write(line3)\n",
    "                    output.write(line4)\n",
    "            record_number += 1    \n",
    "            \n",
    "record_number = 0\n",
    "with open(\"m22_S4_L001_R2_001.fastq\") as input:\n",
    "    with open(\"nm22_S4_L001_R2_001.fastq\", \"w\") as output:\n",
    "        for line1 in input:\n",
    "            line2 = input.next()\n",
    "            line3 = input.next()\n",
    "            line4 = input.next()\n",
    "            if record_number in records_to_keep:\n",
    "                    output.write(line1)\n",
    "                    output.write(line2)\n",
    "                    output.write(line3)\n",
    "                    output.write(line4)\n",
    "            record_number += 1    \n"
   ]
  }
 ],
 "metadata": {
  "anaconda-cloud": {},
  "kernelspec": {
   "display_name": "Python [anaconda]",
   "language": "python",
   "name": "Python [anaconda]"
  },
  "language_info": {
   "codemirror_mode": {
    "name": "ipython",
    "version": 2
   },
   "file_extension": ".py",
   "mimetype": "text/x-python",
   "name": "python",
   "nbconvert_exporter": "python",
   "pygments_lexer": "ipython2",
   "version": "2.7.12"
  }
 },
 "nbformat": 4,
 "nbformat_minor": 0
}
